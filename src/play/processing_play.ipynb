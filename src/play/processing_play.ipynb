{
 "cells": [
  {
   "cell_type": "code",
   "execution_count": 7,
   "metadata": {
    "collapsed": true
   },
   "outputs": [],
   "source": [
    "import json\n",
    "path =  \"../../tweet_input/test_tweets.txt\""
   ]
  },
  {
   "cell_type": "code",
   "execution_count": 21,
   "metadata": {
    "collapsed": false
   },
   "outputs": [
    {
     "name": "stdout",
     "output_type": "stream",
     "text": [
      "[]\n",
      "[]\n",
      "[]\n",
      "[]\n",
      "[{'text': 'hiring', 'indices': [44, 51]}, {'text': 'PaloAlto', 'indices': [55, 64]}, {'text': 'Healthcare', 'indices': [113, 124]}, {'text': 'Job', 'indices': [125, 129]}, {'text': 'Jobs', 'indices': [130, 135]}]\n",
      "[]\n",
      "[]\n",
      "[]\n",
      "[]\n",
      "[]\n",
      "[]\n",
      "[{'text': 'hiring', 'indices': [31, 38]}, {'text': 'Honolulu', 'indices': [42, 51]}, {'text': 'BusinessMgmt', 'indices': [100, 113]}, {'text': 'Job', 'indices': [114, 118]}, {'text': 'Jobs', 'indices': [119, 124]}]\n",
      "[]\n",
      "[]\n",
      "[]\n",
      "[]\n",
      "[]\n",
      "[]\n",
      "[]\n",
      "[]\n"
     ]
    }
   ],
   "source": [
    "with open(path, 'r') as f:\n",
    "    for tweet in f:\n",
    "        tweet_dict = json.loads(tweet)\n",
    "        print(tweet_dict[\"entities\"][\"hashtags\"])"
   ]
  },
  {
   "cell_type": "code",
   "execution_count": 19,
   "metadata": {
    "collapsed": false
   },
   "outputs": [
    {
     "data": {
      "text/plain": [
       "{'hashtags': [],\n",
       " 'symbols': [],\n",
       " 'urls': [{'display_url': 'instagram.com/p/BDg9dk7R3beW…',\n",
       "   'expanded_url': 'https://www.instagram.com/p/BDg9dk7R3beWV32XDZeET4x2iyRDJVK35sjUWQ0/',\n",
       "   'indices': [45, 68],\n",
       "   'url': 'https://t.co/GSOeHGlgJr'}],\n",
       " 'user_mentions': []}"
      ]
     },
     "execution_count": 19,
     "metadata": {},
     "output_type": "execute_result"
    }
   ],
   "source": [
    "tweet_dict[\"entities\"]"
   ]
  },
  {
   "cell_type": "code",
   "execution_count": null,
   "metadata": {
    "collapsed": true
   },
   "outputs": [],
   "source": []
  }
 ],
 "metadata": {
  "kernelspec": {
   "display_name": "Python 3",
   "language": "python",
   "name": "python3"
  },
  "language_info": {
   "codemirror_mode": {
    "name": "ipython",
    "version": 3
   },
   "file_extension": ".py",
   "mimetype": "text/x-python",
   "name": "python",
   "nbconvert_exporter": "python",
   "pygments_lexer": "ipython3",
   "version": "3.5.1"
  }
 },
 "nbformat": 4,
 "nbformat_minor": 0
}
