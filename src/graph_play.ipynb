{
 "cells": [
  {
   "cell_type": "code",
   "execution_count": 7,
   "metadata": {
    "collapsed": false
   },
   "outputs": [],
   "source": [
    "h1 = [\"S\" , \"A\"]        \n",
    "h2 = [\"A\", \"H\", \"S\"]\n",
    "h3 = [\"A\"]\n",
    "h4 = [\"F\", \"S\"]\n",
    "\n",
    "hashtags = [h1, h2, h3, h4]"
   ]
  },
  {
   "cell_type": "code",
   "execution_count": 14,
   "metadata": {
    "collapsed": false
   },
   "outputs": [],
   "source": [
    "def map_to_dict(hashtags):\n",
    "    h_dict = {}\n",
    "    for t in hashtags:\n",
    "        #check length > 1\n",
    "        if len(t) > 1:\n",
    "            print(t)\n",
    "            if len(t) == 2:\n",
    "                new_t = t\n",
    "            else: \n",
    "                new_t = t + [t[0]]\n",
    "            print(dict(zip(new_t[:-1], new_t[1:])))\n",
    "            \n",
    "            \n",
    "            "
   ]
  },
  {
   "cell_type": "code",
   "execution_count": 15,
   "metadata": {
    "collapsed": false
   },
   "outputs": [
    {
     "name": "stdout",
     "output_type": "stream",
     "text": [
      "['S', 'A']\n",
      "{'S': 'A'}\n",
      "['A', 'H', 'S']\n",
      "{'A': 'H', 'S': 'A', 'H': 'S'}\n",
      "['F', 'S']\n",
      "{'F': 'S'}\n"
     ]
    }
   ],
   "source": [
    "map_to_dict(hashtags)"
   ]
  },
  {
   "cell_type": "markdown",
   "metadata": {},
   "source": [
    "### above is not great, because it doesn't work for a tweet containing four hashtags"
   ]
  },
  {
   "cell_type": "markdown",
   "metadata": {},
   "source": [
    "## Using sets"
   ]
  },
  {
   "cell_type": "code",
   "execution_count": 25,
   "metadata": {
    "collapsed": true
   },
   "outputs": [],
   "source": [
    "hashtags = set([\"A\", \"B\", \"C\", \"D\"])\n"
   ]
  },
  {
   "cell_type": "code",
   "execution_count": 60,
   "metadata": {
    "collapsed": false
   },
   "outputs": [],
   "source": [
    "\n",
    "def build_edges(hashtag_set):\n",
    "    #set of sets: inner sets are tuples defining an edge\n",
    "    #input hashtags should be a set\n",
    "    edges = set([])\n",
    "    for h in hashtags:\n",
    "        for remaining_h in hashtags.difference(h):\n",
    "            #frozenset creates an immutable set\n",
    "            edge = frozenset([h, remaining_h])\n",
    "            edges.add(edge)\n",
    "    return edges\n",
    "            \n",
    "        \n",
    "            "
   ]
  },
  {
   "cell_type": "code",
   "execution_count": 61,
   "metadata": {
    "collapsed": false
   },
   "outputs": [
    {
     "data": {
      "text/plain": [
       "{frozenset({'C', 'D'}),\n",
       " frozenset({'B', 'C'}),\n",
       " frozenset({'A', 'C'}),\n",
       " frozenset({'A', 'D'}),\n",
       " frozenset({'B', 'D'}),\n",
       " frozenset({'A', 'B'})}"
      ]
     },
     "execution_count": 61,
     "metadata": {},
     "output_type": "execute_result"
    }
   ],
   "source": [
    "build_edges(hashtags)"
   ]
  },
  {
   "cell_type": "code",
   "execution_count": 62,
   "metadata": {
    "collapsed": true
   },
   "outputs": [],
   "source": [
    "def process_tweets(hashtags):\n",
    "    graph = set([])\n",
    "    for hashtag_set in hashtags:\n",
    "        edges = build_edges(hashtag_set)\n",
    "        #add edges to graph\n",
    "        for edge in edges:\n",
    "            graph.add(edge)\n",
    "    return graph\n",
    "    \n",
    "        "
   ]
  },
  {
   "cell_type": "code",
   "execution_count": 63,
   "metadata": {
    "collapsed": true
   },
   "outputs": [],
   "source": [
    "hashtags = [set([\"A\", \"B\", \"C\", \"D\"]), set([\"A\", \"B\", \"E\"])]"
   ]
  },
  {
   "cell_type": "code",
   "execution_count": 65,
   "metadata": {
    "collapsed": false
   },
   "outputs": [
    {
     "name": "stdout",
     "output_type": "stream",
     "text": [
      "{frozenset({'C', 'D'}), frozenset({'A', 'C'}), frozenset({'C', 'B'}), frozenset({'A', 'D'}), frozenset({'B', 'D'}), frozenset({'E', 'A'}), frozenset({'A', 'B'}), frozenset({'E', 'B'})}\n"
     ]
    }
   ],
   "source": [
    "result = process_tweets(hashtags)\n",
    "print(result)"
   ]
  },
  {
   "cell_type": "code",
   "execution_count": 67,
   "metadata": {
    "collapsed": false
   },
   "outputs": [
    {
     "name": "stdout",
     "output_type": "stream",
     "text": [
      "defaultdict(<class 'int'>, {'E': 2, 'C': 3, 'D': 3, 'B': 4, 'A': 4})\n"
     ]
    }
   ],
   "source": [
    "from collections import defaultdict\n",
    "\n",
    "h_count = defaultdict(int)\n",
    "for edge in result:\n",
    "    for h in edge:\n",
    "        h_count[h] += 1\n",
    "\n",
    "print(h_count)\n",
    "        \n",
    "        "
   ]
  },
  {
   "cell_type": "code",
   "execution_count": null,
   "metadata": {
    "collapsed": true
   },
   "outputs": [],
   "source": []
  }
 ],
 "metadata": {
  "kernelspec": {
   "display_name": "Python 3",
   "language": "python",
   "name": "python3"
  },
  "language_info": {
   "codemirror_mode": {
    "name": "ipython",
    "version": 3
   },
   "file_extension": ".py",
   "mimetype": "text/x-python",
   "name": "python",
   "nbconvert_exporter": "python",
   "pygments_lexer": "ipython3",
   "version": "3.5.1"
  }
 },
 "nbformat": 4,
 "nbformat_minor": 0
}
